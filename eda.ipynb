{
 "cells": [
  {
   "cell_type": "code",
   "execution_count": 1,
   "metadata": {},
   "outputs": [],
   "source": [
    "import pandas as pd"
   ]
  },
  {
   "cell_type": "code",
   "execution_count": 27,
   "metadata": {},
   "outputs": [],
   "source": [
    "df = pd.read_csv('analyst_ratings_processed.csv', parse_dates=['date'])\n"
   ]
  },
  {
   "cell_type": "code",
   "execution_count": 15,
   "metadata": {},
   "outputs": [],
   "source": [
    "nvda = df.loc[df['stock'] == 'NVDA']"
   ]
  },
  {
   "cell_type": "code",
   "execution_count": 28,
   "metadata": {},
   "outputs": [],
   "source": [
    "cov = df.loc[['covid' in a for a in df.title.str.lower()]].sort_values('date')"
   ]
  },
  {
   "cell_type": "code",
   "execution_count": 49,
   "metadata": {},
   "outputs": [
    {
     "data": {
      "text/plain": [
       "988253     Pfizer, BioNTech to Co-develop Potential COVID...\n",
       "1052324    The Daily Biotech Pulse: Setback For DBV In Pe...\n",
       "851942     The Daily Biotech Pulse: Setback For DBV In Pe...\n",
       "1062941    The Daily Biotech Pulse: Setback For DBV In Pe...\n",
       "993570     The Daily Biotech Pulse: Setback For DBV In Pe...\n",
       "                                 ...                        \n",
       "171242     The Daily Biotech Pulse: Regulatory Delay For ...\n",
       "1207666    The Daily Biotech Pulse: Regulatory Delay For ...\n",
       "1239031    The Daily Biotech Pulse: Regulatory Delay For ...\n",
       "1205801    Bio-Techne Highlights Portfolio Of SARS-CoV-2 ...\n",
       "1268763    Tyler Technologies, City Of Buffalo, New York,...\n",
       "Name: title, Length: 520, dtype: object"
      ]
     },
     "execution_count": 49,
     "metadata": {},
     "output_type": "execute_result"
    }
   ],
   "source": [
    "cov.loc[(cov.date >= '2020-03-17') & ['tech' in t for t in cov.title.str.lower()]].sort_values('date').title"
   ]
  },
  {
   "cell_type": "code",
   "execution_count": 1,
   "metadata": {},
   "outputs": [
    {
     "name": "stderr",
     "output_type": "stream",
     "text": [
      "c:\\Users\\19083\\anaconda3\\envs\\general_DS\\lib\\site-packages\\yfinance\\base.py:48: FutureWarning: The default dtype for empty Series will be 'object' instead of 'float64' in a future version. Specify a dtype explicitly to silence this warning.\n",
      "  _empty_series = pd.Series()\n"
     ]
    },
    {
     "ename": "AttributeError",
     "evalue": "'str' object has no attribute 'history'",
     "output_type": "error",
     "traceback": [
      "\u001b[1;31m---------------------------------------------------------------------------\u001b[0m",
      "\u001b[1;31mAttributeError\u001b[0m                            Traceback (most recent call last)",
      "Cell \u001b[1;32mIn[1], line 9\u001b[0m\n\u001b[0;32m      7\u001b[0m all_closing_prices \u001b[38;5;241m=\u001b[39m {}\n\u001b[0;32m      8\u001b[0m \u001b[38;5;28;01mfor\u001b[39;00m symbol \u001b[38;5;129;01min\u001b[39;00m us_stocks\u001b[38;5;241m.\u001b[39mtickers:\n\u001b[1;32m----> 9\u001b[0m     data \u001b[38;5;241m=\u001b[39m \u001b[43msymbol\u001b[49m\u001b[38;5;241;43m.\u001b[39;49m\u001b[43mhistory\u001b[49m(period\u001b[38;5;241m=\u001b[39m\u001b[38;5;124m'\u001b[39m\u001b[38;5;124m1y\u001b[39m\u001b[38;5;124m'\u001b[39m)\n\u001b[0;32m     10\u001b[0m     \u001b[38;5;28;01mif\u001b[39;00m \u001b[38;5;129;01mnot\u001b[39;00m data\u001b[38;5;241m.\u001b[39mempty:\n\u001b[0;32m     11\u001b[0m         all_closing_prices[symbol\u001b[38;5;241m.\u001b[39mticker] \u001b[38;5;241m=\u001b[39m data[\u001b[38;5;124m'\u001b[39m\u001b[38;5;124mClose\u001b[39m\u001b[38;5;124m'\u001b[39m]\n",
      "\u001b[1;31mAttributeError\u001b[0m: 'str' object has no attribute 'history'"
     ]
    }
   ],
   "source": [
    "import yfinance as yf\n",
    "\n",
    "# Fetch all publicly traded US stocks\n",
    "us_stocks = yf.Tickers(' '.join(map(chr, range(65, 91))) + ' ' + ' '.join(map(str, range(10))))\n",
    "\n",
    "# Fetch historical data for each stock\n",
    "all_closing_prices = {}\n",
    "for symbol in us_stocks.tickers:\n",
    "    data = symbol.history(period='1y')\n",
    "    if not data.empty:\n",
    "        all_closing_prices[symbol.ticker] = data['Close']\n",
    "\n",
    "# Print closing prices for each stock\n",
    "for symbol, prices in all_closing_prices.items():\n",
    "    print(f'Closing prices for {symbol}:')\n",
    "    print(prices)\n",
    "    print()"
   ]
  }
 ],
 "metadata": {
  "kernelspec": {
   "display_name": "general_DS",
   "language": "python",
   "name": "python3"
  },
  "language_info": {
   "codemirror_mode": {
    "name": "ipython",
    "version": 3
   },
   "file_extension": ".py",
   "mimetype": "text/x-python",
   "name": "python",
   "nbconvert_exporter": "python",
   "pygments_lexer": "ipython3",
   "version": "3.10.13"
  }
 },
 "nbformat": 4,
 "nbformat_minor": 2
}
